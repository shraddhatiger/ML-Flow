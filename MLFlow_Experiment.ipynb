{
 "cells": [
  {
   "cell_type": "code",
   "execution_count": 1,
   "id": "b7ca173e",
   "metadata": {},
   "outputs": [],
   "source": [
    "import os\n",
    "import warnings\n",
    "import sys\n",
    "\n",
    "import pandas as pd\n",
    "import numpy as np\n",
    "\n",
    "import tarfile\n",
    "import urllib.request\n",
    "\n",
    "DOWNLOAD_ROOT = \"https://raw.githubusercontent.com/ageron/handson-ml2/master/\"\n",
    "HOUSING_PATH = os.path.join(\"datasets\", \"housing\")\n",
    "HOUSING_URL = DOWNLOAD_ROOT + \"datasets/housing/housing.tgz\"\n",
    "\n",
    "from sklearn.compose import ColumnTransformer\n",
    "from sklearn.base import BaseEstimator, TransformerMixin\n",
    "from sklearn.impute import SimpleImputer\n",
    "from sklearn.preprocessing import StandardScaler\n",
    "from sklearn.preprocessing import OneHotEncoder\n",
    "from sklearn.pipeline import Pipeline\n",
    "from sklearn.model_selection import train_test_split\n",
    "from sklearn.linear_model import LinearRegression, RidgeCV, LassoCV, ElasticNetCV\n",
    "from sklearn.metrics import mean_squared_error, mean_absolute_error, r2_score\n",
    "\n",
    "import mlflow\n",
    "import mlflow.sklearn\n",
    "\n",
    "warnings.filterwarnings(\"ignore\")"
   ]
  },
  {
   "cell_type": "code",
   "execution_count": 2,
   "id": "b4243d31",
   "metadata": {},
   "outputs": [],
   "source": [
    "def fetch_housing_data(housing_url=HOUSING_URL, housing_path=HOUSING_PATH):\n",
    "    if not os.path.isdir(housing_path):\n",
    "        os.makedirs(housing_path)\n",
    "    tgz_path = os.path.join(housing_path, \"housing.tgz\")\n",
    "    urllib.request.urlretrieve(housing_url, tgz_path)\n",
    "    housing_tgz = tarfile.open(tgz_path)\n",
    "    housing_tgz.extractall(path=housing_path)\n",
    "    housing_tgz.close()"
   ]
  },
  {
   "cell_type": "code",
   "execution_count": 3,
   "id": "4c2fe404",
   "metadata": {},
   "outputs": [],
   "source": [
    "def load_housing_data(housing_path=HOUSING_PATH):\n",
    "    fetch_housing_data()\n",
    "    csv_path = os.path.join(housing_path, \"housing.csv\")\n",
    "    return pd.read_csv(csv_path)"
   ]
  },
  {
   "cell_type": "code",
   "execution_count": 4,
   "id": "1f652971",
   "metadata": {},
   "outputs": [],
   "source": [
    "# mlflow server --backend-store-uri mlruns/ --default-artifact-root mlruns/\n",
    "remote_server_uri = \"http://127.0.0.1:5000/\" # set to your server URI\n",
    "mlflow.set_tracking_uri(remote_server_uri)  # or set the MLFLOW_TRACKING_URI in the env"
   ]
  },
  {
   "cell_type": "code",
   "execution_count": 5,
   "id": "1601039e",
   "metadata": {
    "scrolled": true
   },
   "outputs": [
    {
     "data": {
      "text/plain": [
       "'http://127.0.0.1:5000/'"
      ]
     },
     "execution_count": 5,
     "metadata": {},
     "output_type": "execute_result"
    }
   ],
   "source": [
    "mlflow.tracking.get_tracking_uri()"
   ]
  },
  {
   "cell_type": "code",
   "execution_count": 6,
   "id": "2da689d2",
   "metadata": {},
   "outputs": [
    {
     "data": {
      "text/plain": [
       "<Experiment: artifact_location='mlruns/1', experiment_id='1', lifecycle_stage='active', name='LinearRegression', tags={}>"
      ]
     },
     "execution_count": 6,
     "metadata": {},
     "output_type": "execute_result"
    }
   ],
   "source": [
    "exp_name = \"LinearRegression\"\n",
    "mlflow.set_experiment(exp_name)"
   ]
  },
  {
   "cell_type": "markdown",
   "id": "e8772fda",
   "metadata": {},
   "source": [
    "## MLFlow Pipeline"
   ]
  },
  {
   "cell_type": "markdown",
   "id": "522d1a56",
   "metadata": {},
   "source": [
    "- User\n",
    "> LR\n",
    "> Lasso\n",
    "> Ridge\n",
    "> ElastiNet"
   ]
  },
  {
   "cell_type": "code",
   "execution_count": 7,
   "id": "5be9e635",
   "metadata": {},
   "outputs": [],
   "source": [
    "# column index\n",
    "rooms_ix, bedrooms_ix, population_ix, households_ix = 3, 4, 5, 6\n",
    "\n",
    "class CombinedAttributesAdder(BaseEstimator, TransformerMixin):\n",
    "    def __init__(self, add_bedrooms_per_room=True): # no *args or **kargs\n",
    "        self.add_bedrooms_per_room = add_bedrooms_per_room\n",
    "    def fit(self, X, y=None):\n",
    "        return self  # nothing else to do\n",
    "    def transform(self, X):\n",
    "        rooms_per_household = X[:, rooms_ix] / X[:, households_ix]\n",
    "        population_per_household = X[:, population_ix] / X[:, households_ix]\n",
    "        if self.add_bedrooms_per_room:\n",
    "            bedrooms_per_room = X[:, bedrooms_ix] / X[:, rooms_ix]\n",
    "            return np.c_[X, rooms_per_household, population_per_household,\n",
    "                         bedrooms_per_room]\n",
    "        else:\n",
    "            return np.c_[X, rooms_per_household, population_per_household]"
   ]
  },
  {
   "cell_type": "code",
   "execution_count": 8,
   "id": "e1d8ba6d",
   "metadata": {},
   "outputs": [],
   "source": [
    "def cleanse_data(data):\n",
    "    data_num = data.select_dtypes(include=[np.number])\n",
    "    data[\"income_cat\"] = pd.cut(data[\"median_income\"],\n",
    "                               bins=[0., 1.5, 3.0, 4.5, 6., np.inf],\n",
    "                               labels=[1, 2, 3, 4, 5])\n",
    "    \n",
    "    num_pipeline = Pipeline([\n",
    "        ('imputer', SimpleImputer(strategy=\"median\")),\n",
    "        ('attribs_adder', CombinedAttributesAdder()),\n",
    "        ('std_scaler', StandardScaler()),\n",
    "    ])\n",
    "\n",
    "    num_attribs = list(data_num.columns.values)\n",
    "    cat_attribs = [\"ocean_proximity\"]\n",
    "\n",
    "    full_pipeline = ColumnTransformer([\n",
    "            (\"num\", num_pipeline, num_attribs),\n",
    "            (\"cat\", OneHotEncoder(), cat_attribs),\n",
    "        ])\n",
    "    num_attribs_col = num_attribs + ['rooms_per_household', 'population_per_household', 'bedrooms_per_room']\n",
    "    cat_attribs_col = ['ocean_proximity' + str(i) for i in range(1, 6)]\n",
    "\n",
    "    data_prepared = full_pipeline.fit_transform(data)\n",
    "    data_prepared = pd.DataFrame(data_prepared, columns=num_attribs_col+cat_attribs_col)\n",
    "    \n",
    "    return data_prepared"
   ]
  },
  {
   "cell_type": "code",
   "execution_count": 9,
   "id": "d458dd99",
   "metadata": {},
   "outputs": [],
   "source": [
    "def eval_metrics(actual, pred):\n",
    "    # compute relevant metrics\n",
    "    rmse = np.sqrt(mean_squared_error(actual, pred))\n",
    "    mae = mean_absolute_error(actual, pred)\n",
    "    r2 = r2_score(actual, pred)\n",
    "    return rmse, mae, r2\n",
    "\n",
    "def load_data(data_path = HOUSING_PATH):\n",
    "    data = load_housing_data(data_path)\n",
    "    \n",
    "    # Cleansing and one-hot encoding the data\n",
    "    data = cleanse_data(data)\n",
    "\n",
    "    # Split the data into training and test sets. (0.75, 0.25) split.\n",
    "    train, test = train_test_split(data)\n",
    "\n",
    "    # The predicted column is \"quality\" which is a scalar from [3, 9]\n",
    "    train_x = train.drop([\"median_house_value\"], axis=1)\n",
    "    test_x = test.drop([\"median_house_value\"], axis=1)\n",
    "    train_y = train[[\"median_house_value\"]]\n",
    "    test_y = test[[\"median_house_value\"]]\n",
    "    return train_x, train_y, test_x, test_y\n",
    "\n",
    "def train(model='linear'):\n",
    "    # train a model with given parameters\n",
    "    np.random.seed(40)\n",
    "\n",
    "    # Read the wine-quality csv file (make sure you're running this from the root of MLflow!)\n",
    "    train_x, train_y, test_x, test_y = load_data()\n",
    "    \n",
    "    # Useful for multiple runs (only doing one run in this sample notebook)    \n",
    "    with mlflow.start_run():\n",
    "        # Execute LinearRegression\n",
    "        model = model.lower()\n",
    "        model_dict = {'linear': LinearRegression, 'ridge': RidgeCV, 'lasso': LassoCV, 'elastinet':ElasticNetCV}\n",
    "        lr = model_dict[model]()\n",
    "        lr.fit(train_x, train_y)\n",
    "\n",
    "        # Evaluate Metrics\n",
    "        predicted_qualities = lr.predict(test_x)\n",
    "        (rmse, mae, r2) = eval_metrics(test_y, predicted_qualities)\n",
    "\n",
    "        # Print out metrics\n",
    "        print(f\"Model: {model.title()}\")\n",
    "        print(\"  RMSE: %s\" % rmse)\n",
    "        print(\"  MAE: %s\" % mae)\n",
    "        print(\"  R2: %s\" % r2)\n",
    "\n",
    "        # Log parameter, metrics, and model to MLflow\n",
    "        mlflow.log_metric(key=\"rmse\", value=rmse)\n",
    "        mlflow.log_metrics({\"mae\": mae, \"r2\": r2})\n",
    "        mlflow.log_artifact(HOUSING_PATH)\n",
    "        print(\"Save to: {}\".format(mlflow.get_artifact_uri()))\n",
    "        \n",
    "        mlflow.sklearn.log_model(lr, \"model\")"
   ]
  },
  {
   "cell_type": "code",
   "execution_count": 10,
   "id": "17ab3486",
   "metadata": {
    "scrolled": false
   },
   "outputs": [
    {
     "name": "stdout",
     "output_type": "stream",
     "text": [
      "Model: Linear\n",
      "  RMSE: 0.5988452034985938\n",
      "  MAE: 0.43367042256325444\n",
      "  R2: 0.6488279212507495\n",
      "Save to: mlruns/1/c543405f8032422a839faa6fdfbaa14c/artifacts\n"
     ]
    }
   ],
   "source": [
    "train()"
   ]
  },
  {
   "cell_type": "code",
   "execution_count": 11,
   "id": "144c846b",
   "metadata": {},
   "outputs": [
    {
     "name": "stdout",
     "output_type": "stream",
     "text": [
      "Model: Ridge\n",
      "  RMSE: 0.5988975922258075\n",
      "  MAE: 0.433724689198381\n",
      "  R2: 0.6487664754451795\n",
      "Save to: mlruns/1/bd1311f694254368809d9f719d8fe537/artifacts\n"
     ]
    }
   ],
   "source": [
    "train('Ridge')"
   ]
  },
  {
   "cell_type": "code",
   "execution_count": 12,
   "id": "0c5132b2",
   "metadata": {},
   "outputs": [
    {
     "name": "stdout",
     "output_type": "stream",
     "text": [
      "Model: Lasso\n",
      "  RMSE: 0.5990449839953267\n",
      "  MAE: 0.4338084869590932\n",
      "  R2: 0.648593573427638\n",
      "Save to: mlruns/1/7ba1a6521a7a4cf8b455c87d00b40dc4/artifacts\n"
     ]
    }
   ],
   "source": [
    "train('Lasso')"
   ]
  },
  {
   "cell_type": "code",
   "execution_count": 13,
   "id": "d8b1d1c1",
   "metadata": {},
   "outputs": [
    {
     "name": "stdout",
     "output_type": "stream",
     "text": [
      "Model: Elastinet\n",
      "  RMSE: 0.5991188259615581\n",
      "  MAE: 0.4337806192860862\n",
      "  R2: 0.6485069350566772\n",
      "Save to: mlruns/1/e9b222691b9047deb1ecb0c4a60a051c/artifacts\n"
     ]
    }
   ],
   "source": [
    "train('ElastiNet')"
   ]
  }
 ],
 "metadata": {
  "kernelspec": {
   "display_name": "Python 3 (ipykernel)",
   "language": "python",
   "name": "python3"
  },
  "language_info": {
   "codemirror_mode": {
    "name": "ipython",
    "version": 3
   },
   "file_extension": ".py",
   "mimetype": "text/x-python",
   "name": "python",
   "nbconvert_exporter": "python",
   "pygments_lexer": "ipython3",
   "version": "3.8.10"
  }
 },
 "nbformat": 4,
 "nbformat_minor": 5
}
